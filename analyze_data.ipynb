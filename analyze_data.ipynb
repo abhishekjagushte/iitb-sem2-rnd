{
 "cells": [
  {
   "cell_type": "code",
   "execution_count": 196,
   "metadata": {},
   "outputs": [],
   "source": [
    "excludes = ['power.Core']\n",
    "\n",
    "def parse_data(data_folder, workloads):\n",
    "    data = {}\n",
    "\n",
    "    for wl in workloads:\n",
    "        baseline_res = get_results_map(data_folder, wl)\n",
    "        data[wl] = baseline_res\n",
    "\n",
    "    return data\n",
    "\n",
    "\n",
    "def get_results_map(fodler_path, workload):\n",
    "    filename = fodler_path + \"/\" + workload + \".txt\" \n",
    "    d = {}\n",
    "    with open(filename, \"r\") as file:\n",
    "        lines = file.readlines()\n",
    "\n",
    "        for line in lines:\n",
    "            line = line.strip()\n",
    "            splits = line.split(\" \")\n",
    "\n",
    "            if (not splits[0].startswith(\"power.\")):    \n",
    "                d[splits[0]] = float(splits[2])\n",
    "\n",
    "\n",
    "    return d"
   ]
  },
  {
   "cell_type": "code",
   "execution_count": 216,
   "metadata": {},
   "outputs": [],
   "source": [
    "import pandas as pd\n",
    "import matplotlib.pyplot as plt\n",
    "\n",
    "\n",
    "workloads = [\n",
    "    \"bc\",\n",
    "    \"bfs\",\n",
    "    \"cc\",\n",
    "    \"dlrm\",\n",
    "    \"gc\",\n",
    "    \"gen\",\n",
    "    \"pr\",\n",
    "    \"rnd\",\n",
    "    \"sssp\",\n",
    "    \"tc\",\n",
    "    \"xs\"\n",
    "]\n",
    "\n",
    "\n",
    "paths = ['./temp/victima_no_pref', './bypassing_l2/complete_bypass/radix', './bypassing_l2/complete_bypass/victima']\n",
    "headings = ['Victima no pref', 'Radix complete bypass', 'Victima complete bypass']\n",
    "\n",
    "data_dfs = []\n",
    "\n",
    "\n",
    "for path in paths:\n",
    "    res = parse_data(path, workloads)\n",
    "    data_df = pd.DataFrame(res)\n",
    "    data_dfs.append(data_df)\n"
   ]
  },
  {
   "cell_type": "code",
   "execution_count": 198,
   "metadata": {},
   "outputs": [],
   "source": [
    "def convert_to_cycles(femtosecs):\n",
    "    return femtosecs / 384615"
   ]
  },
  {
   "cell_type": "code",
   "execution_count": 199,
   "metadata": {},
   "outputs": [],
   "source": [
    "# Assuming df1 and df2 are your two DataFrames\n",
    "def compare(dfs, labels):\n",
    "    merged_df = pd.concat(dfs, axis=1)\n",
    "    merged_df.columns = labels\n",
    "    return merged_df"
   ]
  },
  {
   "cell_type": "code",
   "execution_count": 211,
   "metadata": {},
   "outputs": [],
   "source": [
    "# generic get attribute function\n",
    "def get_attr(df, attr, label):\n",
    "    dt = pd.DataFrame(index=[label], columns=workloads)\n",
    "\n",
    "    for wl in workloads:\n",
    "        dt.at[label, wl] = df[wl][attr]\n",
    "\n",
    "    return dt.T\n",
    "\n",
    "\n",
    "def compare_attr(dfs, labels, attr):\n",
    "    mer = [get_attr(df, attr, label) for df, label in zip(dfs, labels)]\n",
    "    return compare(mer, labels)\n"
   ]
  },
  {
   "cell_type": "code",
   "execution_count": null,
   "metadata": {},
   "outputs": [],
   "source": [
    "print(compare_attr(data_dfs, headings, 'L1-D.total-latency'))"
   ]
  },
  {
   "cell_type": "markdown",
   "metadata": {},
   "source": [
    "## Get STLB Miss Penalties"
   ]
  },
  {
   "cell_type": "code",
   "execution_count": 201,
   "metadata": {},
   "outputs": [],
   "source": [
    "def get_stlb_miss_penalties_df(df):\n",
    "    label = 'STLB Miss Penalty'\n",
    "    # Initialize an empty DataFrame with 'STLB Miss Penalty' as the index\n",
    "    stlb_miss_penalty = pd.DataFrame(index=[label], columns=workloads)\n",
    "\n",
    "    for wl in workloads:\n",
    "        # Compute the STLB miss penalty\n",
    "        penalty = convert_to_cycles(df[wl]['mmu.total_ptw_latency'] / df[wl]['PTW_0.page_walks'])\n",
    "        stlb_miss_penalty.at[label, wl] = round(penalty, 2)\n",
    "\n",
    "    return stlb_miss_penalty.T\n"
   ]
  },
  {
   "cell_type": "code",
   "execution_count": 202,
   "metadata": {},
   "outputs": [
    {
     "name": "stdout",
     "output_type": "stream",
     "text": [
      "     STLB Miss Penalty\n",
      "bc              133.74\n",
      "bfs             119.34\n",
      "cc              120.28\n",
      "dlrm            118.89\n",
      "gc              122.12\n",
      "gen             122.27\n",
      "pr              119.21\n",
      "rnd              55.01\n",
      "sssp            135.58\n",
      "tc              120.66\n",
      "xs               48.89\n"
     ]
    }
   ],
   "source": [
    "print(get_stlb_miss_penalties_df(data_dfs[0]))"
   ]
  },
  {
   "cell_type": "markdown",
   "metadata": {},
   "source": [
    "## Get Cache MPKI"
   ]
  },
  {
   "cell_type": "code",
   "execution_count": 203,
   "metadata": {},
   "outputs": [],
   "source": [
    "MISSES_TLB_BLOCKS = 'load-misses-tlb_entry'\n",
    "MISSES_DATA_BLOCKS = 'load-misses-non_page_table'\n",
    "MISSES_PTE_BLOCKS = 'load-misses-page_table'\n",
    "\n",
    "\n",
    "DATA_BLOCK = 'Data'\n",
    "PTE_BLOCK = 'PTE'\n",
    "TLB_BLOCK = 'TLB'\n",
    "\n",
    "\n",
    "block_type = {\n",
    "    MISSES_TLB_BLOCKS: TLB_BLOCK,\n",
    "    MISSES_DATA_BLOCKS: DATA_BLOCK,\n",
    "    MISSES_PTE_BLOCKS: PTE_BLOCK,\n",
    "}\n",
    "\n",
    "# Now return a df as done in the previous function\n",
    "def get_cache_mpki(df, cache_name, misses_name):\n",
    "    label = f'{cache_name} {block_type[misses_name]} MPKI'\n",
    "    mpki = pd.DataFrame(index=[label], columns=workloads)\n",
    "    attr = cache_name + '.' + misses_name\n",
    "\n",
    "    for wl in workloads:\n",
    "        mpki.at[label, wl] = round(df[wl][attr] / df[wl]['core.instructions'] * 1000, 2)\n",
    "\n",
    "    return mpki.T\n",
    "\n"
   ]
  },
  {
   "cell_type": "code",
   "execution_count": 204,
   "metadata": {},
   "outputs": [],
   "source": [
    "# print(get_cache_mpki(data_dfs[0], 'L2', MISSES_DATA_BLOCKS))\n",
    "# print(get_cache_mpki(data_dfs[0], 'L2', MISSES_TLB_BLOCKS))\n",
    "# print(get_cache_mpki(data_dfs[0], 'L2', MISSES_PTE_BLOCKS))"
   ]
  },
  {
   "cell_type": "markdown",
   "metadata": {},
   "source": [
    "## NUCA Cache analysis"
   ]
  },
  {
   "cell_type": "code",
   "execution_count": null,
   "metadata": {},
   "outputs": [],
   "source": []
  },
  {
   "cell_type": "code",
   "execution_count": 205,
   "metadata": {},
   "outputs": [
    {
     "data": {
      "image/png": "[encoded data removed]",
      "text/plain": [
       "<Figure size 1000x600 with 1 Axes>"
      ]
     },
     "metadata": {},
     "output_type": "display_data"
    }
   ],
   "source": [
    "d1 = get_cache_mpki(data_dfs[0], 'L2', MISSES_TLB_BLOCKS)\n",
    "d2 = get_cache_mpki(data_dfs[1], 'L2', MISSES_TLB_BLOCKS)\n",
    "lab = ['Baseline Victima', 'Complete Bypass']\n",
    "cmp = compare([d1, d2], lab)\n",
    "\n",
    "\n",
    "# plot the comparison\n",
    "cmp.plot(kind='bar', figsize=(10, 6))\n",
    "plt.ylabel('MPKI')\n",
    "plt.title('TLB MPKI Comparison')\n",
    "plt.show()"
   ]
  },
  {
   "cell_type": "code",
   "execution_count": 206,
   "metadata": {},
   "outputs": [
    {
     "name": "stdout",
     "output_type": "stream",
     "text": [
      "     Baseline Victima Complete Bypass\n",
      "bc             133.74          214.04\n",
      "bfs            119.34          200.46\n",
      "cc             120.28          200.96\n",
      "dlrm           118.89          200.45\n",
      "gc             122.12          230.56\n",
      "gen            122.27           230.6\n",
      "pr             119.21          195.61\n",
      "rnd             55.01          205.01\n",
      "sssp           135.58          219.69\n",
      "tc             120.66          193.54\n",
      "xs              48.89          193.62\n"
     ]
    }
   ],
   "source": [
    "# compare stlb miss penalties\n",
    "d1 = get_stlb_miss_penalties_df(data_dfs[0])\n",
    "d2 = get_stlb_miss_penalties_df(data_dfs[1])\n",
    "lab = ['Baseline Victima', 'Complete Bypass']\n",
    "cmp = compare([d1, d2], lab)\n",
    "print(cmp)"
   ]
  },
  {
   "cell_type": "markdown",
   "metadata": {},
   "source": [
    "## The REUSE values!"
   ]
  },
  {
   "cell_type": "code",
   "execution_count": 207,
   "metadata": {},
   "outputs": [
    {
     "name": "stdout",
     "output_type": "stream",
     "text": [
      "     nuca-cache.data-reuse-0 nuca-cache.data-reuse-1 nuca-cache.data-reuse-2  \\\n",
      "bc                     41.11                   58.88                    0.01   \n",
      "bfs                     89.2                   10.79                    0.01   \n",
      "cc                     92.68                    7.31                    0.01   \n",
      "dlrm                    89.2                   10.79                    0.01   \n",
      "gc                     95.94                    4.06                     0.0   \n",
      "gen                    95.94                    4.06                     0.0   \n",
      "pr                     71.18                   28.82                     0.0   \n",
      "rnd                     0.14                   99.86                     0.0   \n",
      "sssp                   95.99                    4.01                     0.0   \n",
      "tc                     86.46                   13.54                     0.0   \n",
      "xs                     100.0                     0.0                     0.0   \n",
      "mean               77.985455               22.010909                0.003636   \n",
      "\n",
      "     nuca-cache.data-reuse-3 nuca-cache.data-reuse-4  \n",
      "bc                       0.0                     0.0  \n",
      "bfs                      0.0                     0.0  \n",
      "cc                       0.0                     0.0  \n",
      "dlrm                     0.0                     0.0  \n",
      "gc                       0.0                     0.0  \n",
      "gen                      0.0                     0.0  \n",
      "pr                       0.0                     0.0  \n",
      "rnd                      0.0                     0.0  \n",
      "sssp                     0.0                     0.0  \n",
      "tc                       0.0                     0.0  \n",
      "xs                       0.0                     0.0  \n",
      "mean                     0.0                     0.0  \n"
     ]
    }
   ],
   "source": [
    "import pandas as pd\n",
    "\n",
    "DATA_REUSE = 'data'\n",
    "PTE_REUSE = 'metadata'\n",
    "TLB_REUSE = 'tlb'\n",
    "\n",
    "def get_reuse_attrs(cache_name, type):\n",
    "    return [f'{cache_name}.{type}-reuse-{i}' for i in range(5)]\n",
    "\n",
    "def get_cache_reuse(df, cache_name, type):\n",
    "    attrs = get_reuse_attrs(cache_name, type)\n",
    "\n",
    "    # Initialize DataFrame properly with attributes as rows and workloads as columns\n",
    "    reuse = pd.DataFrame(index=attrs, columns=workloads)\n",
    "\n",
    "    for wl in workloads:\n",
    "        for attr in attrs:\n",
    "            reuse.at[attr, wl] = df[wl][attr]  # Assign values correctly\n",
    "\n",
    "    reuse = reuse.T\n",
    "\n",
    "    # now calculate the percentage of each reuse level\n",
    "    for wl in workloads:\n",
    "        total = reuse.loc[wl].sum()\n",
    "        for attr in attrs:\n",
    "            reuse.at[wl, attr] = round(reuse.at[wl, attr] / total * 100, 2)\n",
    "\n",
    "    # add a row for mean values\n",
    "    reuse.loc['mean'] = reuse.mean()\n",
    "\n",
    "    return reuse  # Transpose to maintain workload as rows\n",
    "\n",
    "\n",
    "d1 = get_cache_reuse(data_dfs[0], 'nuca-cache', DATA_REUSE)\n",
    "print(d1)\n"
   ]
  },
  {
   "cell_type": "markdown",
   "metadata": {},
   "source": [
    "## Get the IPC"
   ]
  },
  {
   "cell_type": "code",
   "execution_count": 232,
   "metadata": {},
   "outputs": [
    {
     "name": "stdout",
     "output_type": "stream",
     "text": [
      "     Normalized Speedup\n",
      "bc             1.014996\n",
      "bfs            1.027308\n",
      "cc             1.029066\n",
      "dlrm           1.027034\n",
      "gc             1.036661\n",
      "gen            1.039436\n",
      "pr             1.003613\n",
      "rnd            0.751558\n",
      "sssp           1.039867\n",
      "tc             1.043183\n",
      "xs             1.051757\n"
     ]
    }
   ],
   "source": [
    "def get_ipc(df):\n",
    "    label = 'IPC'\n",
    "    ipc = pd.DataFrame(index=[label], columns=workloads)\n",
    "\n",
    "    for wl in workloads:\n",
    "        ipc.at[label, wl] = df[wl]['ipc']\n",
    "\n",
    "    return ipc.T\n",
    "\n",
    "def get_normalized_speedup(df_base, df_cmp):\n",
    "    label = 'Normalized Speedup'\n",
    "    speedup = pd.DataFrame(index=[label], columns=workloads)\n",
    "\n",
    "    for wl in workloads:\n",
    "        speedup.at[label, wl] = df_cmp[wl]['ipc'] / df_base[wl]['ipc']\n",
    "\n",
    "    return speedup.T\n",
    "\n",
    "# print(get_ipc(data_dfs[0]))\n",
    "\n",
    "sp = get_normalized_speedup(data_dfs[0], data_dfs[2])\n",
    "print(sp)\n",
    "\n",
    "\n",
    "#plot the speedups\n",
    "# sp.plot(kind='bar', figsize=(10, 6))\n",
    "# plt.ylabel('Normalized Speedup')\n",
    "# plt.title('Normalized Speedup Baseline Victima vs Complete Bypass')\n",
    "# plt.show()"
   ]
  },
  {
   "cell_type": "markdown",
   "metadata": {},
   "source": [
    "## DRAM reads and Writes"
   ]
  },
  {
   "cell_type": "code",
   "execution_count": 209,
   "metadata": {},
   "outputs": [
    {
     "name": "stdout",
     "output_type": "stream",
     "text": [
      "     Baseline Victima Complete Bypass Difference\n",
      "bc         30213204.0      33348315.0   1.103766\n",
      "bfs        98818553.0     113534398.0   1.148918\n",
      "cc        114021291.0     132256090.0   1.159925\n",
      "dlrm       98813844.0     113593471.0    1.14957\n",
      "gc         78109710.0      92385738.0   1.182769\n",
      "gen        78099491.0      91848240.0   1.176041\n",
      "pr         98521388.0     105294853.0   1.068751\n",
      "rnd       113915480.0     113911244.0   0.999963\n",
      "sssp       99634517.0     120636735.0   1.210793\n",
      "tc         13170853.0      14160450.0   1.075135\n",
      "xs         16932741.0      17039608.0   1.006311\n",
      "     Baseline Victima Complete Bypass Difference\n",
      "bc         17239819.0      20724889.0   1.202152\n",
      "bfs        89960395.0     104802124.0   1.164981\n",
      "cc        107093186.0     125408003.0   1.171018\n",
      "dlrm       89952837.0     104862326.0   1.165748\n",
      "gc         75105528.0      89388215.0   1.190168\n",
      "gen        75095779.0      89395481.0    1.19042\n",
      "pr         73931147.0      80904705.0   1.094325\n",
      "rnd        38173556.0      38030208.0   0.996245\n",
      "sssp       96211979.0     117234118.0   1.218498\n",
      "tc         11657804.0      12658934.0   1.085876\n",
      "xs         16932627.0      17039495.0   1.006311\n",
      "     Baseline Victima Complete Bypass Difference\n",
      "bc         12973385.0      12623426.0   0.973025\n",
      "bfs         8858158.0       8732274.0   0.985789\n",
      "cc          6928105.0       6848087.0    0.98845\n",
      "dlrm        8861007.0       8731145.0   0.985345\n",
      "gc          3004182.0       2997523.0   0.997783\n",
      "gen         3003712.0       2452759.0   0.816576\n",
      "pr         24590241.0      24390148.0   0.991863\n",
      "rnd        75741924.0      75881036.0   1.001837\n",
      "sssp        3422538.0       3402617.0   0.994179\n",
      "tc          1513049.0       1501516.0   0.992378\n",
      "xs              114.0           113.0   0.991228\n"
     ]
    }
   ],
   "source": [
    "# Analyze the dram.reads and dram.writes\n",
    "def get_dram_traffic(df):\n",
    "    label = 'DRAM Traffic'\n",
    "    dram_traffic = pd.DataFrame(index=[label], columns=workloads)\n",
    "\n",
    "    for wl in workloads:\n",
    "        dram_traffic.at[label, wl] = df[wl]['dram.reads'] + df[wl]['dram.writes']\n",
    "\n",
    "    return dram_traffic.T\n",
    "\n",
    "\n",
    "def get_dram_reads(df):\n",
    "    label = 'DRAM Reads'\n",
    "    dram_reads = pd.DataFrame(index=[label], columns=workloads)\n",
    "\n",
    "    for wl in workloads:\n",
    "        dram_reads.at[label, wl] = df[wl]['dram.reads']\n",
    "\n",
    "    return dram_reads.T\n",
    "\n",
    "\n",
    "def get_dram_writes(df):\n",
    "    label = 'DRAM Writes'\n",
    "    dram_writes = pd.DataFrame(index=[label], columns=workloads)\n",
    "\n",
    "    for wl in workloads:\n",
    "        dram_writes.at[label, wl] = df[wl]['dram.writes']\n",
    "\n",
    "    return dram_writes.T\n",
    "\n",
    "\n",
    "\n",
    "drt = compare([get_dram_traffic(data_dfs[0]), get_dram_traffic(data_dfs[1])], ['Baseline Victima', 'Complete Bypass'])\n",
    "drr = compare([get_dram_reads(data_dfs[0]), get_dram_reads(data_dfs[1])], ['Baseline Victima', 'Complete Bypass'])\n",
    "drw = compare([get_dram_writes(data_dfs[0]), get_dram_writes(data_dfs[1])], ['Baseline Victima', 'Complete Bypass'])\n",
    "\n",
    "## add a column that tells by how many times is the difference\n",
    "drt['Difference'] = drt['Complete Bypass'] / drt['Baseline Victima']\n",
    "drr['Difference'] = drr['Complete Bypass'] / drr['Baseline Victima']\n",
    "drw['Difference'] = drw['Complete Bypass'] / drw['Baseline Victima']\n",
    "\n",
    "\n",
    "print(drt)\n",
    "print(drr)\n",
    "print(drw)"
   ]
  },
  {
   "cell_type": "markdown",
   "metadata": {},
   "source": [
    "## Get Miss Latency"
   ]
  },
  {
   "cell_type": "code",
   "execution_count": 227,
   "metadata": {},
   "outputs": [
    {
     "name": "stdout",
     "output_type": "stream",
     "text": [
      "     Victima no pref Radix complete bypass Victima complete bypass\n",
      "bc        110.807487             80.667678               89.090869\n",
      "bfs       116.788169             97.950079              112.851085\n",
      "cc        118.328326              99.93114              114.615796\n",
      "dlrm      116.778262             98.473071              112.809296\n",
      "gc        121.085988            107.951347              124.711208\n",
      "gen       121.076234              107.7252              116.014483\n",
      "pr        106.887598            100.942672              108.740261\n",
      "rnd         69.13078             64.494628               79.507115\n",
      "sssp      134.490119            114.286891              123.897334\n",
      "tc           119.357            104.797474              115.124837\n",
      "xs        109.306375             97.698048              105.093261\n"
     ]
    }
   ],
   "source": [
    "# Now return a df as done in the previous function\n",
    "def get_cache_miss_penalty(df, cache_name):\n",
    "    label = f'{cache_name} Miss Penalty'\n",
    "    mpki = pd.DataFrame(index=[label], columns=workloads)\n",
    "    load_misses_attr = cache_name + '.tload-misses'\n",
    "    store_misses_attr = cache_name + '.tstore-misses'\n",
    "    tot_latency_attr = cache_name + '.total-latency'\n",
    "\n",
    "\n",
    "    for wl in workloads:\n",
    "        mpki.at[label, wl] = round(df[wl][tot_latency_attr] / (df[wl][load_misses_attr] + df[wl][store_misses_attr]), 2)\n",
    "        mpki.at[label, wl] = convert_to_cycles(mpki.at[label, wl])\n",
    "\n",
    "    return mpki.T\n",
    "\n",
    "\n",
    "d = [get_cache_miss_penalty(di, 'L1-D') for di, li in zip(data_dfs, headings)]\n",
    "cmp = compare(d, headings)\n",
    "\n",
    "print(cmp)"
   ]
  }
 ],
 "metadata": {
  "kernelspec": {
   "display_name": ".venv",
   "language": "python",
   "name": "python3"
  },
  "language_info": {
   "codemirror_mode": {
    "name": "ipython",
    "version": 3
   },
   "file_extension": ".py",
   "mimetype": "text/x-python",
   "name": "python",
   "nbconvert_exporter": "python",
   "pygments_lexer": "ipython3",
   "version": "3.12.3"
  }
 },
 "nbformat": 4,
 "nbformat_minor": 2
}
