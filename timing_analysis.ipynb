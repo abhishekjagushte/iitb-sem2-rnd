{
 "cells": [
  {
   "cell_type": "code",
   "execution_count": 1,
   "metadata": {},
   "outputs": [],
   "source": [
    "import matplotlib.pyplot as plt\n",
    "import pandas as pd\n",
    "import numpy as np"
   ]
  },
  {
   "cell_type": "code",
   "execution_count": 2,
   "metadata": {},
   "outputs": [
    {
     "name": "stdout",
     "output_type": "stream",
     "text": [
      "     0\n",
      "0  NaN\n",
      "1  1.0\n",
      "2  1.0\n",
      "3  7.0\n",
      "4 -5.0\n",
      "0 \n",
      "1     1\n",
      "2     1\n",
      "3     1\n",
      "5     1\n",
      "10    1\n",
      "Name: count, dtype: int64\n"
     ]
    }
   ],
   "source": [
    "# Test out pandas functions\n",
    "\n",
    "lis = [1, 2, 3, 10, 5]\n",
    "\n",
    "df = pd.DataFrame(lis) \n",
    "\n",
    "print(df.diff())\n",
    "\n",
    "\n",
    "print(df.value_counts())\n"
   ]
  },
  {
   "cell_type": "markdown",
   "metadata": {},
   "source": [
    "# Analysis of number of clock cycles in between requests"
   ]
  },
  {
   "cell_type": "code",
   "execution_count": 3,
   "metadata": {},
   "outputs": [],
   "source": [
    "\n",
    "\n",
    "def analyze_access_pattern(df):    \n",
    "    differences = df['ts'].diff().dropna()  # Drop the first NaN value from diff()\n",
    "\n",
    "    filter_diff = 5000\n",
    "    small_diff = differences[differences < filter_diff]\n",
    "    \n",
    "    fraction = small_diff.size / differences.size\n",
    "    print(f'Fraction of misses with time difference less than {filter_diff}: {fraction}')\n",
    "    \n",
    "    avg_diff = small_diff.mean()\n",
    "    print(f'The average time difference between accesses is {avg_diff}')\n",
    "\n",
    "\n",
    "\n",
    "def analyze_per_ip(workload_name): \n",
    "    # Read the CSV file into a DataFrame\n",
    "    df = pd.read_csv(f'./access_patterns/500M/L2_miss/{workload_name}.out')\n",
    "\n",
    "    for eip in df['eip'].unique():\n",
    "        subset = df[df['eip'] == eip]\n",
    "        \n",
    "        # Proceed only if the subset has more than 10,000 entries\n",
    "        if len(subset) > 10000:\n",
    "            print(f'Analyzing EIP {eip}')\n",
    "            analyze_access_pattern(subset)\n",
    "\n",
    "\n",
    "\n",
    "def analyze_per_workload(workload_name):\n",
    "    # Read the CSV file into a DataFrame\n",
    "    df = pd.read_csv(f'./access_patterns/500M/L2_miss/{workload_name}.out')\n",
    "    print(f'Analyzing workload {workload_name}')\n",
    "    analyze_access_pattern(df)\n",
    "\n",
    "                \n",
    "\n",
    "            "
   ]
  },
  {
   "cell_type": "code",
   "execution_count": 4,
   "metadata": {},
   "outputs": [],
   "source": [
    "# analyze_per_ip('bc')\n",
    "# analyze_per_ip('bfs')\n",
    "# analyze_per_ip('cc')\n",
    "# analyze_per_ip('dlrm')\n",
    "# analyze_per_ip('gc')\n",
    "# analyze_per_ip('gen')\n",
    "# analyze_per_ip('pr')\n",
    "# analyze_per_ip('rnd')\n",
    "# analyze_per_ip('sssp')\n",
    "# analyze_per_ip('tc')\n",
    "# analyze_per_ip('xs')"
   ]
  },
  {
   "cell_type": "code",
   "execution_count": 7,
   "metadata": {},
   "outputs": [
    {
     "name": "stdout",
     "output_type": "stream",
     "text": [
      "Analyzing workload xs\n",
      "Fraction of misses with time difference less than 5000: 0.973118460640352\n",
      "The average time difference between accesses is 916.5685296170464\n"
     ]
    }
   ],
   "source": [
    "# analyze_per_workload('bc')\n",
    "# analyze_per_workload('bfs')\n",
    "# analyze_per_workload('cc')\n",
    "# analyze_per_workload('dlrm')\n",
    "# analyze_per_workload('gc')\n",
    "# analyze_per_workload('gen')\n",
    "# analyze_per_workload('pr')\n",
    "# analyze_per_workload('rnd')\n",
    "# analyze_per_workload('sssp')\n",
    "# analyze_per_workload('tc')\n",
    "analyze_per_workload('xs')"
   ]
  }
 ],
 "metadata": {
  "kernelspec": {
   "display_name": ".venv",
   "language": "python",
   "name": "python3"
  },
  "language_info": {
   "codemirror_mode": {
    "name": "ipython",
    "version": 3
   },
   "file_extension": ".py",
   "mimetype": "text/x-python",
   "name": "python",
   "nbconvert_exporter": "python",
   "pygments_lexer": "ipython3",
   "version": "3.12.3"
  }
 },
 "nbformat": 4,
 "nbformat_minor": 2
}
