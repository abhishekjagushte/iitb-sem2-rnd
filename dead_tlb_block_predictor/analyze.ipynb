{
 "cells": [
  {
   "cell_type": "code",
   "execution_count": 1,
   "metadata": {},
   "outputs": [],
   "source": [
    "import re\n",
    "\n",
    "def remove_lines_with_pattern(input_file, output_file, pattern):\n",
    "    with open(input_file, 'r') as file:\n",
    "        lines = file.readlines()\n",
    "    \n",
    "    with open(output_file, 'w') as file:\n",
    "        file.write(\"eip,vpn,reuse\\n\")\n",
    "        for line in lines:\n",
    "            if re.match(pattern, line):\n",
    "                file.write(line)"
   ]
  },
  {
   "cell_type": "code",
   "execution_count": 2,
   "metadata": {},
   "outputs": [],
   "source": [
    "pattern = r\"([0-9]+,){2}[0-9]*\"\n",
    "\n",
    "remove_lines_with_pattern(\"reuse.out\", \"bc.csv\", pattern)\n"
   ]
  },
  {
   "cell_type": "code",
   "execution_count": 4,
   "metadata": {},
   "outputs": [
    {
     "name": "stdout",
     "output_type": "stream",
     "text": [
      "(3602869, 3)\n",
      "                    eip         vpn  reuse\n",
      "1662004  93907474510194  2868222599    501\n",
      "688015   93907474510194  2868222533    501\n",
      "3570438  93907474510194  2868222634    502\n",
      "3569677  93907474510194  2868222570    503\n",
      "3167787  93907474510194  2868222559    504\n",
      "...                 ...         ...    ...\n",
      "681710   93907474510194  2868222559    952\n",
      "688747   93907474510194  2868222557    989\n",
      "689821   93907474510194  2868222541    998\n",
      "687122   93907474510194  2868222599    999\n",
      "688670   93907474510194  2868222621   1031\n",
      "\n",
      "[150 rows x 3 columns]\n"
     ]
    }
   ],
   "source": [
    "import csv\n",
    "import pandas as pd\n",
    "\n",
    "\n",
    "df = pd.read_csv(\"bc.csv\")\n",
    "\n",
    "\n",
    "#right shift vpn in each row by 3 bits to get the block number\n",
    "df[\"vpn\"] = df[\"vpn\"] // 8\n",
    "\n",
    "print(df.shape)\n",
    "\n",
    "\n",
    "#count blocks with reuse > 0 and display sorted in descending order\n",
    "print(df[df[\"reuse\"] > 500].sort_values(by='reuse'))\n",
    "\n",
    "# #number of unique eip values\n",
    "# print(df[\"eip\"].nunique())\n",
    "\n",
    "\n"
   ]
  },
  {
   "cell_type": "code",
   "execution_count": 25,
   "metadata": {},
   "outputs": [
    {
     "name": "stdout",
     "output_type": "stream",
     "text": [
      "                    eip         vpn  reuse  count\n",
      "0        93907474510177     5597323      0    379\n",
      "1        93907474510177  4286541197      0    352\n",
      "2        93907474510177  4286541396      0    320\n",
      "3        93907474510177  2865828784      0    319\n",
      "4        93907474510177  4286541264      0    285\n",
      "...                 ...         ...    ...    ...\n",
      "802838  140461387296467  4286540558      0      1\n",
      "802842   93907474509834     5597323      0      1\n",
      "802843   93907474505648  4294655376      0      1\n",
      "802844   93907474500912  2865828784      0      1\n",
      "802845   93907474500912     5601998      0      1\n",
      "\n",
      "[676071 rows x 4 columns]\n"
     ]
    }
   ],
   "source": [
    "# group by eip and vpn and reuse and count the number of entries in each group and sort by the count\n",
    "grouped = df.groupby([\"eip\", \"vpn\", \"reuse\"]).size().sort_values(ascending=False)\n",
    "\n",
    "#name the count column as count\n",
    "grouped = grouped.reset_index(name='count')\n",
    "\n",
    "#print all rows of the grouped dataframe\n",
    "# grouped.to_csv(\"grouped.csv\")\n",
    "print(grouped[grouped[\"reuse\"] == 0])\n",
    "# print(grouped)\n",
    "\n"
   ]
  }
 ],
 "metadata": {
  "kernelspec": {
   "display_name": ".venv",
   "language": "python",
   "name": "python3"
  },
  "language_info": {
   "codemirror_mode": {
    "name": "ipython",
    "version": 3
   },
   "file_extension": ".py",
   "mimetype": "text/x-python",
   "name": "python",
   "nbconvert_exporter": "python",
   "pygments_lexer": "ipython3",
   "version": "3.12.3"
  }
 },
 "nbformat": 4,
 "nbformat_minor": 2
}
