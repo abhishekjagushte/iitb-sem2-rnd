{
 "cells": [
  {
   "cell_type": "code",
   "execution_count": 2,
   "metadata": {},
   "outputs": [],
   "source": [
    "import re\n",
    "\n",
    "\n",
    "# read a file and extract only the lines which match a regex\n",
    "def remove_lines_with_pattern(input_file, output_file, pattern):\n",
    "    with open(input_file, 'r') as file:\n",
    "        lines = file.readlines()\n",
    "    \n",
    "    with open(output_file, 'w') as file:\n",
    "        # file.write(\"eip,vpn,reuse\\n\")\n",
    "        file.write(\"eip,vpn,reuse,prediction\\n\")\n",
    "        for line in lines:\n",
    "            if re.match(pattern, line):\n",
    "                file.write(line)\n",
    "\n",
    "\n",
    "\n",
    "pattern = r\"([0-9]+,){3}[0-9]*\"\n",
    "\n",
    "# remove_lines_with_pattern(\"pref-off.txt\", \"off.csv\", pattern)\n",
    "# remove_lines_with_pattern(\"pref-on.out\", \"on.csv\", pattern)\n",
    "remove_lines_with_pattern(\"bug_fix_pref_on.txt\", \"bf_on.csv\", pattern)\n"
   ]
  },
  {
   "cell_type": "code",
   "execution_count": 3,
   "metadata": {},
   "outputs": [],
   "source": [
    "import pandas as pd\n",
    "\n",
    "off_df = pd.read_csv(\"off.csv\")\n",
    "on_df = pd.read_csv(\"on.csv\")\n",
    "bf_on_df = pd.read_csv(\"bf_on.csv\")\n"
   ]
  },
  {
   "cell_type": "code",
   "execution_count": 4,
   "metadata": {},
   "outputs": [
    {
     "name": "stdout",
     "output_type": "stream",
     "text": [
      "Off size: (3603382, 3)\n",
      "On size: (3660403, 3)\n",
      "Bug Fix On size: (3661300, 4)\n"
     ]
    }
   ],
   "source": [
    "print(\"Off size:\", off_df.shape)\n",
    "print(\"On size:\", on_df.shape)\n",
    "print(\"Bug Fix On size:\", bf_on_df.shape)"
   ]
  },
  {
   "cell_type": "code",
   "execution_count": 7,
   "metadata": {},
   "outputs": [
    {
     "name": "stdout",
     "output_type": "stream",
     "text": [
      "Off: [3302718, 223082, 49644, 14407, 13531]\n",
      "On: [3339414, 242589, 51552, 14268, 12580]\n",
      "Bug fix On: [3340300, 243568, 51395, 14070, 11967]\n"
     ]
    }
   ],
   "source": [
    "# print reuse distribution for on and off for partitions 0, 1-5, 6-10, 11-20, >20\n",
    "def reuse_distribution_values(df):\n",
    "    reuse = df['reuse']\n",
    "    reuse_0 = reuse[reuse == 0].shape[0]\n",
    "    reuse_1_5 = reuse[(reuse > 0) & (reuse <= 5)].shape[0]\n",
    "    reuse_6_10 = reuse[(reuse > 5) & (reuse <= 10)].shape[0]\n",
    "    reuse_11_20 = reuse[(reuse > 10) & (reuse <= 20)].shape[0]\n",
    "    reuse_gt_20 = reuse[reuse > 20].shape[0]\n",
    "\n",
    "    return [reuse_0, reuse_1_5, reuse_6_10, reuse_11_20, reuse_gt_20]\n",
    "\n",
    "\n",
    "pref_off = reuse_distribution_values(off_df)\n",
    "pref_on = reuse_distribution_values(on_df)\n",
    "bf_on_df_dist = reuse_distribution_values(bf_on_df)\n",
    "\n",
    "print(\"Off:\", pref_off)\n",
    "print(\"On:\", pref_on)\n",
    "print(\"Bug fix On:\", bf_on_df_dist)"
   ]
  },
  {
   "cell_type": "code",
   "execution_count": 18,
   "metadata": {},
   "outputs": [
    {
     "name": "stdout",
     "output_type": "stream",
     "text": [
      "Off distribution: 0: 0.92, 1-5: 0.06, 6-10: 0.01, 11-20: 0.00, >20: 0.00\n",
      "On distribution: 0: 0.91, 1-5: 0.07, 6-10: 0.01, 11-20: 0.00, >20: 0.00\n"
     ]
    }
   ],
   "source": [
    "# create a percentage wise distribution of reuse for partitions 0, 1-5, 6-10, 11-20, >20\n",
    "def reuse_distribution(df):\n",
    "    reuse = df['reuse']\n",
    "    reuse_0 = reuse[reuse == 0].shape[0]\n",
    "    reuse_1_5 = reuse[(reuse > 0) & (reuse <= 5)].shape[0]\n",
    "    reuse_6_10 = reuse[(reuse > 5) & (reuse <= 10)].shape[0]\n",
    "    reuse_11_20 = reuse[(reuse > 10) & (reuse <= 20)].shape[0]\n",
    "    reuse_gt_20 = reuse[reuse > 20].shape[0]\n",
    "\n",
    "    total = df.shape[0]\n",
    "    return (reuse_0/total, reuse_1_5/total, reuse_6_10/total, reuse_11_20/total, reuse_gt_20/total)\n",
    "\n",
    "\n",
    "# print reuse distribution for on and off in proper format\n",
    "off_dist = reuse_distribution(off_df)\n",
    "on_dist = reuse_distribution(on_df)\n",
    "\n",
    "print(\"Off distribution: 0: {:.2f}, 1-5: {:.2f}, 6-10: {:.2f}, 11-20: {:.2f}, >20: {:.2f}\".format(*off_dist))\n",
    "print(\"On distribution: 0: {:.2f}, 1-5: {:.2f}, 6-10: {:.2f}, 11-20: {:.2f}, >20: {:.2f}\".format(*on_dist))"
   ]
  },
  {
   "cell_type": "code",
   "execution_count": null,
   "metadata": {},
   "outputs": [],
   "source": [
    "# plot seprate stacked bar charts for off_dist and on_dist showing distribution of reuse\n",
    "import matplotlib.pyplot as plt\n",
    "\n",
    "labels = ['0', '1-5', '6-10', '11-20', '>20']\n",
    "x = range(len(labels))\n",
    "width = 0.35\n",
    "\n",
    "fig, ax = plt.subplots()\n",
    "rects1 = ax.bar(x, off_dist, width, label='Off')\n",
    "rects2 = ax.bar([i + width for i in x], on_dist, width, label='On')\n",
    "\n",
    "ax.set_ylabel('Percentage')\n",
    "ax.set_title('Reuse distribution')\n",
    "ax.set_xticks([i + width/2 for i in x])\n",
    "ax.set_xticklabels(labels)\n",
    "\n",
    "ax.legend()\n",
    "plt.show()\n"
   ]
  },
  {
   "cell_type": "code",
   "execution_count": 22,
   "metadata": {},
   "outputs": [
    {
     "name": "stdout",
     "output_type": "stream",
     "text": [
      "Max reuse off: 1032\n",
      "Min reuse off: 0\n",
      "Max reuse on: 1009\n",
      "Min reuse on: 0\n"
     ]
    }
   ],
   "source": [
    "# Show the max and min reuse values for on and off\n",
    "print(\"Max reuse off:\", off_df['reuse'].max())\n",
    "print(\"Min reuse off:\", off_df['reuse'].min())\n",
    "\n",
    "print(\"Max reuse on:\", on_df['reuse'].max())\n",
    "print(\"Min reuse on:\", on_df['reuse'].min())"
   ]
  }
 ],
 "metadata": {
  "kernelspec": {
   "display_name": ".venv",
   "language": "python",
   "name": "python3"
  },
  "language_info": {
   "codemirror_mode": {
    "name": "ipython",
    "version": 3
   },
   "file_extension": ".py",
   "mimetype": "text/x-python",
   "name": "python",
   "nbconvert_exporter": "python",
   "pygments_lexer": "ipython3",
   "version": "3.12.3"
  }
 },
 "nbformat": 4,
 "nbformat_minor": 2
}
